{
 "cells": [
  {
   "cell_type": "code",
   "id": "initial_id",
   "metadata": {
    "collapsed": true,
    "ExecuteTime": {
     "end_time": "2024-11-20T19:34:09.230302Z",
     "start_time": "2024-11-20T19:34:07.435648Z"
    }
   },
   "source": [
    "import pandas as pd\n",
    "import numpy as np\n",
    "from sklearn.pipeline import Pipeline\n",
    "from sklearn.preprocessing import OneHotEncoder, MinMaxScaler\n",
    "from sklearn.compose import ColumnTransformer, make_column_selector\n",
    "from sklearn.linear_model import ElasticNet\n",
    "from sklearn.ensemble import RandomForestRegressor\n",
    "from sklearn.impute import SimpleImputer\n",
    "from sklearn.model_selection import train_test_split\n",
    "from scipy.stats import uniform, randint\n",
    "from xgboost import XGBRegressor\n",
    "from paramFunctions import *\n",
    "\n",
    "import warnings\n",
    "\n",
    "warnings.filterwarnings(\"ignore\")"
   ],
   "outputs": [],
   "execution_count": 1
  },
  {
   "metadata": {
    "ExecuteTime": {
     "end_time": "2024-11-20T19:34:09.261220Z",
     "start_time": "2024-11-20T19:34:09.232297Z"
    }
   },
   "cell_type": "code",
   "source": "df_phone = pd.read_csv(\"../data/Cellphone.csv\")",
   "id": "429e827c375cd521",
   "outputs": [],
   "execution_count": 2
  },
  {
   "metadata": {
    "ExecuteTime": {
     "end_time": "2024-11-20T19:34:10.199585Z",
     "start_time": "2024-11-20T19:34:10.175651Z"
    }
   },
   "cell_type": "code",
   "source": [
    "df_phone = pd.read_csv(\"../data/Cellphone.csv\")\n",
    "X_phone = df_phone.drop(columns=[\"Price\", \"Product_id\"], axis=1)\n",
    "Y_phone = df_phone['Price']\n",
    "\n",
    "X_phone_train, X_phone_test, y_phone_train, y_phone_test = train_test_split(X_phone, Y_phone, test_size=0.3, random_state=42)"
   ],
   "id": "d714e1e1d3aab8bf",
   "outputs": [],
   "execution_count": 3
  },
  {
   "metadata": {
    "ExecuteTime": {
     "end_time": "2024-11-20T19:34:11.537539Z",
     "start_time": "2024-11-20T19:34:11.529563Z"
    }
   },
   "cell_type": "code",
   "source": [
    "si_cat=SimpleImputer(strategy=\"constant\", fill_value='NO INFORMATION')\n",
    "si_num = SimpleImputer(strategy='median')\n",
    "scaler=MinMaxScaler()\n",
    "\n",
    "numerical_pipeline = Pipeline(steps=[\n",
    "    ('imputer', si_num),\n",
    "    ('scaler', scaler)\n",
    "    ])\n",
    "    \n",
    "category_pipeline = Pipeline(steps=[\n",
    "    ('imputer', si_cat),\n",
    "    ('encoder', OneHotEncoder(handle_unknown='ignore'))\n",
    "    ])\n",
    "\n",
    "col_transformer = ColumnTransformer(transformers=[\n",
    "    ('num', numerical_pipeline, make_column_selector(dtype_include=np.number)),\n",
    "    ('cat', category_pipeline, make_column_selector(dtype_include='object'))\n",
    "    ],\n",
    "    remainder='drop',\n",
    "    n_jobs=-1)  "
   ],
   "id": "4b14ac7bb0b9842f",
   "outputs": [],
   "execution_count": 4
  },
  {
   "metadata": {
    "ExecuteTime": {
     "end_time": "2024-11-20T19:34:13.673168Z",
     "start_time": "2024-11-20T19:34:13.666190Z"
    }
   },
   "cell_type": "code",
   "source": [
    "RF_regressor = Pipeline([('preprocessor', col_transformer),\n",
    "                         ('model', RandomForestRegressor())])\n",
    "ElasticNet_regressor = Pipeline([('preprocessor', col_transformer),\n",
    "                                 ('model', ElasticNet())])    \n",
    "XGB_regressor = Pipeline([('preprocessor', col_transformer),\n",
    "                          ('model', XGBRegressor())])  "
   ],
   "id": "dfde145a83ebd085",
   "outputs": [],
   "execution_count": 5
  },
  {
   "metadata": {
    "ExecuteTime": {
     "end_time": "2024-11-20T19:34:14.802367Z",
     "start_time": "2024-11-20T19:34:14.777435Z"
    }
   },
   "cell_type": "code",
   "source": [
    "param_distributions_rf = {\n",
    "    'model__n_estimators': randint(1,500),\n",
    "    'model__min_samples_split': randint(2, 10),\n",
    "    'model__min_samples_leaf': randint(2, 10)\n",
    "}\n",
    "\n",
    "param_distributions_enet = {\n",
    "    'model__alpha': uniform(0, 1),\n",
    "    'model__l1_ratio': uniform(0, 1),\n",
    "}\n",
    "\n",
    "param_distributions_xgb = {\n",
    "    'model__min_child_weight': [2 ** uniform.rvs(0, 7) for _ in range(100)],\n",
    "    'model__max_depth': randint(1, 15),\n",
    "    'model__colsample_bytree': uniform(0, 1)\n",
    "}"
   ],
   "id": "b579eec1c9202406",
   "outputs": [],
   "execution_count": 6
  },
  {
   "metadata": {
    "ExecuteTime": {
     "end_time": "2024-11-20T19:35:57.516860Z",
     "start_time": "2024-11-20T19:34:17.715589Z"
    }
   },
   "cell_type": "code",
   "source": "param_list_enet, score_list_enet = get_param_score_list(X_phone_train,y_phone_train,X_phone_test, y_phone_test, ElasticNet_regressor, param_distributions_enet, 160)",
   "id": "3ecd33bb66d37b0",
   "outputs": [
    {
     "name": "stdout",
     "output_type": "stream",
     "text": [
      "Fitting 5 folds for each of 2 candidates, totalling 10 fits\n",
      "Fitting 5 folds for each of 4 candidates, totalling 20 fits\n",
      "Fitting 5 folds for each of 6 candidates, totalling 30 fits\n",
      "Fitting 5 folds for each of 8 candidates, totalling 40 fits\n",
      "Fitting 5 folds for each of 10 candidates, totalling 50 fits\n",
      "Fitting 5 folds for each of 20 candidates, totalling 100 fits\n",
      "Fitting 5 folds for each of 30 candidates, totalling 150 fits\n",
      "Fitting 5 folds for each of 40 candidates, totalling 200 fits\n",
      "Fitting 5 folds for each of 50 candidates, totalling 250 fits\n",
      "Fitting 5 folds for each of 60 candidates, totalling 300 fits\n",
      "Fitting 5 folds for each of 70 candidates, totalling 350 fits\n",
      "Fitting 5 folds for each of 80 candidates, totalling 400 fits\n",
      "Fitting 5 folds for each of 90 candidates, totalling 450 fits\n",
      "Fitting 5 folds for each of 100 candidates, totalling 500 fits\n",
      "Fitting 5 folds for each of 110 candidates, totalling 550 fits\n",
      "Fitting 5 folds for each of 120 candidates, totalling 600 fits\n",
      "Fitting 5 folds for each of 130 candidates, totalling 650 fits\n",
      "Fitting 5 folds for each of 140 candidates, totalling 700 fits\n",
      "Fitting 5 folds for each of 150 candidates, totalling 750 fits\n",
      "[{'model__alpha': 0.3745401188473625, 'model__l1_ratio': 0.9507143064099162}, {'model__alpha': 0.05808361216819946, 'model__l1_ratio': 0.8661761457749352}, {'model__alpha': 0.020584494295802447, 'model__l1_ratio': 0.9699098521619943}, {'model__alpha': 0.020584494295802447, 'model__l1_ratio': 0.9699098521619943}, {'model__alpha': 0.020584494295802447, 'model__l1_ratio': 0.9699098521619943}, {'model__alpha': 0.06505159298527952, 'model__l1_ratio': 0.9488855372533332}, {'model__alpha': 0.034388521115218396, 'model__l1_ratio': 0.9093204020787821}, {'model__alpha': 0.034388521115218396, 'model__l1_ratio': 0.9093204020787821}, {'model__alpha': 0.034388521115218396, 'model__l1_ratio': 0.9093204020787821}, {'model__alpha': 0.034388521115218396, 'model__l1_ratio': 0.9093204020787821}, {'model__alpha': 0.006952130531190703, 'model__l1_ratio': 0.5107473025775657}, {'model__alpha': 0.006952130531190703, 'model__l1_ratio': 0.5107473025775657}, {'model__alpha': 0.006952130531190703, 'model__l1_ratio': 0.5107473025775657}, {'model__alpha': 0.006952130531190703, 'model__l1_ratio': 0.5107473025775657}, {'model__alpha': 0.006952130531190703, 'model__l1_ratio': 0.5107473025775657}, {'model__alpha': 0.006952130531190703, 'model__l1_ratio': 0.5107473025775657}, {'model__alpha': 0.006952130531190703, 'model__l1_ratio': 0.5107473025775657}, {'model__alpha': 0.006952130531190703, 'model__l1_ratio': 0.5107473025775657}, {'model__alpha': 0.006952130531190703, 'model__l1_ratio': 0.5107473025775657}]\n",
      "[0.9388181910801585, 0.9484884389025656, 0.954974809952922, 0.954974809952922, 0.954974809952922, 0.9525799222079284, 0.9528397948454524, 0.9528397948454524, 0.9528397948454524, 0.9528397948454524, 0.9526157376314595, 0.9526157376314595, 0.9526157376314595, 0.9526157376314595, 0.9526157376314595, 0.9526157376314595, 0.9526157376314595, 0.9526157376314595, 0.9526157376314595]\n"
     ]
    }
   ],
   "execution_count": 7
  },
  {
   "metadata": {
    "ExecuteTime": {
     "end_time": "2024-11-20T19:38:15.626282Z",
     "start_time": "2024-11-20T19:35:57.522816Z"
    }
   },
   "cell_type": "code",
   "source": "param_list_xgb, score_list_xgb = get_param_score_list(X_phone_train,y_phone_train,X_phone_test, y_phone_test, XGB_regressor, param_distributions_enet, 160)",
   "id": "7722e2f6bc67bb4e",
   "outputs": [
    {
     "name": "stdout",
     "output_type": "stream",
     "text": [
      "Fitting 5 folds for each of 2 candidates, totalling 10 fits\n",
      "Fitting 5 folds for each of 4 candidates, totalling 20 fits\n",
      "Fitting 5 folds for each of 6 candidates, totalling 30 fits\n",
      "Fitting 5 folds for each of 8 candidates, totalling 40 fits\n",
      "Fitting 5 folds for each of 10 candidates, totalling 50 fits\n",
      "Fitting 5 folds for each of 20 candidates, totalling 100 fits\n",
      "Fitting 5 folds for each of 30 candidates, totalling 150 fits\n",
      "Fitting 5 folds for each of 40 candidates, totalling 200 fits\n",
      "Fitting 5 folds for each of 50 candidates, totalling 250 fits\n",
      "Fitting 5 folds for each of 60 candidates, totalling 300 fits\n",
      "Fitting 5 folds for each of 70 candidates, totalling 350 fits\n",
      "Fitting 5 folds for each of 80 candidates, totalling 400 fits\n",
      "Fitting 5 folds for each of 90 candidates, totalling 450 fits\n",
      "Fitting 5 folds for each of 100 candidates, totalling 500 fits\n",
      "Fitting 5 folds for each of 110 candidates, totalling 550 fits\n",
      "Fitting 5 folds for each of 120 candidates, totalling 600 fits\n",
      "Fitting 5 folds for each of 130 candidates, totalling 650 fits\n",
      "Fitting 5 folds for each of 140 candidates, totalling 700 fits\n",
      "Fitting 5 folds for each of 150 candidates, totalling 750 fits\n",
      "[{'model__alpha': 0.3745401188473625, 'model__l1_ratio': 0.9507143064099162}, {'model__alpha': 0.3745401188473625, 'model__l1_ratio': 0.9507143064099162}, {'model__alpha': 0.3745401188473625, 'model__l1_ratio': 0.9507143064099162}, {'model__alpha': 0.8324426408004217, 'model__l1_ratio': 0.21233911067827616}, {'model__alpha': 0.3042422429595377, 'model__l1_ratio': 0.5247564316322378}, {'model__alpha': 0.9656320330745594, 'model__l1_ratio': 0.8083973481164611}, {'model__alpha': 0.9656320330745594, 'model__l1_ratio': 0.8083973481164611}, {'model__alpha': 0.9656320330745594, 'model__l1_ratio': 0.8083973481164611}, {'model__alpha': 0.9656320330745594, 'model__l1_ratio': 0.8083973481164611}, {'model__alpha': 0.9656320330745594, 'model__l1_ratio': 0.8083973481164611}, {'model__alpha': 0.9656320330745594, 'model__l1_ratio': 0.8083973481164611}, {'model__alpha': 0.9624472949421112, 'model__l1_ratio': 0.25178229582536416}, {'model__alpha': 0.9624472949421112, 'model__l1_ratio': 0.25178229582536416}, {'model__alpha': 0.9624472949421112, 'model__l1_ratio': 0.25178229582536416}, {'model__alpha': 0.9624472949421112, 'model__l1_ratio': 0.25178229582536416}, {'model__alpha': 0.9624472949421112, 'model__l1_ratio': 0.25178229582536416}, {'model__alpha': 0.9624472949421112, 'model__l1_ratio': 0.25178229582536416}, {'model__alpha': 0.9624472949421112, 'model__l1_ratio': 0.25178229582536416}, {'model__alpha': 0.9624472949421112, 'model__l1_ratio': 0.25178229582536416}]\n",
      "[0.9763611555099487, 0.9763611555099487, 0.9763611555099487, 0.976101279258728, 0.9765263199806213, 0.9763404726982117, 0.9763404726982117, 0.9763404726982117, 0.9763404726982117, 0.9763404726982117, 0.9763404726982117, 0.9763555526733398, 0.9763555526733398, 0.9763555526733398, 0.9763555526733398, 0.9763555526733398, 0.9763555526733398, 0.9763555526733398, 0.9763555526733398]\n"
     ]
    }
   ],
   "execution_count": 8
  },
  {
   "metadata": {
    "jupyter": {
     "is_executing": true
    },
    "ExecuteTime": {
     "start_time": "2024-11-20T19:38:15.627280Z"
    }
   },
   "cell_type": "code",
   "source": "param_list_rf, score_list_rf = get_param_score_list(X_phone_train,y_phone_train,X_phone_test, y_phone_test, RF_regressor, param_distributions_rf, 160)",
   "id": "29016f5a26a09e1",
   "outputs": [
    {
     "name": "stdout",
     "output_type": "stream",
     "text": [
      "Fitting 5 folds for each of 2 candidates, totalling 10 fits\n",
      "Fitting 5 folds for each of 4 candidates, totalling 20 fits\n",
      "Fitting 5 folds for each of 6 candidates, totalling 30 fits\n",
      "Fitting 5 folds for each of 8 candidates, totalling 40 fits\n",
      "Fitting 5 folds for each of 10 candidates, totalling 50 fits\n",
      "Fitting 5 folds for each of 20 candidates, totalling 100 fits\n",
      "Fitting 5 folds for each of 30 candidates, totalling 150 fits\n",
      "Fitting 5 folds for each of 40 candidates, totalling 200 fits\n",
      "Fitting 5 folds for each of 50 candidates, totalling 250 fits\n",
      "Fitting 5 folds for each of 60 candidates, totalling 300 fits\n",
      "Fitting 5 folds for each of 70 candidates, totalling 350 fits\n",
      "Fitting 5 folds for each of 80 candidates, totalling 400 fits\n",
      "Fitting 5 folds for each of 90 candidates, totalling 450 fits\n",
      "Fitting 5 folds for each of 100 candidates, totalling 500 fits\n",
      "Fitting 5 folds for each of 110 candidates, totalling 550 fits\n"
     ]
    }
   ],
   "execution_count": null
  },
  {
   "metadata": {
    "jupyter": {
     "is_executing": true
    }
   },
   "cell_type": "code",
   "source": [
    "save_best_results('phone', 'ElasticNet', param_list_enet, score_list_enet)\n",
    "save_best_results('phone', 'XGB', param_list_xgb, score_list_xgb)\n",
    "save_best_results('phone', 'RandomForest', param_list_rf, score_list_rf)"
   ],
   "id": "9451dff8b59e2d13",
   "outputs": [],
   "execution_count": null
  },
  {
   "metadata": {
    "ExecuteTime": {
     "end_time": "2024-11-16T22:53:51.440691Z",
     "start_time": "2024-11-16T22:53:51.432684Z"
    }
   },
   "cell_type": "code",
   "source": [
    "list_1 = list(range(2, 12, 2))  \n",
    "list_2 = list(range(20, 151, 10))  \n",
    "\n",
    "iter_number = list_1 + list_2"
   ],
   "id": "e31dc76a03799535",
   "execution_count": 13,
   "outputs": []
  },
  {
   "metadata": {
    "ExecuteTime": {
     "end_time": "2024-11-16T22:53:52.866915Z",
     "start_time": "2024-11-16T22:53:52.491050Z"
    }
   },
   "cell_type": "code",
   "source": "r2_iteration_plot(iter_number, score_list_rf,'phone', 'rf')",
   "id": "4625f332d937b251",
   "execution_count": 14,
   "outputs": []
  },
  {
   "metadata": {
    "ExecuteTime": {
     "end_time": "2024-11-16T21:56:51.553306Z",
     "start_time": "2024-11-16T21:56:51.288007Z"
    }
   },
   "cell_type": "code",
   "source": "r2_iteration_plot(iter_number, score_list_enet,'phone', 'enet')",
   "id": "7dd38583ec18407b",
   "execution_count": 31,
   "outputs": []
  },
  {
   "metadata": {
    "ExecuteTime": {
     "end_time": "2024-11-16T21:57:08.771016Z",
     "start_time": "2024-11-16T21:57:08.549597Z"
    }
   },
   "cell_type": "code",
   "source": "r2_iteration_plot(iter_number, score_list_xgb,'phone', 'xgb')",
   "id": "e950945618dfe19e",
   "execution_count": 32,
   "outputs": []
  },
  {
   "metadata": {
    "ExecuteTime": {
     "end_time": "2024-11-16T22:54:19.519005Z",
     "start_time": "2024-11-16T22:54:19.248930Z"
    }
   },
   "cell_type": "code",
   "source": "r2_all_models(iter_number, score_list_rf,score_list_xgb, score_list_enet, 'phone')",
   "id": "22d3fb5e8c21940f",
   "execution_count": 16,
   "outputs": []
  }
 ],
 "metadata": {
  "kernelspec": {
   "display_name": "Python 3",
   "language": "python",
   "name": "python3"
  },
  "language_info": {
   "codemirror_mode": {
    "name": "ipython",
    "version": 2
   },
   "file_extension": ".py",
   "mimetype": "text/x-python",
   "name": "python",
   "nbconvert_exporter": "python",
   "pygments_lexer": "ipython2",
   "version": "2.7.6"
  }
 },
 "nbformat": 4,
 "nbformat_minor": 5
}
