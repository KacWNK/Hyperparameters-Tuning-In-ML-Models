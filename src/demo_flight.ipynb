{
 "cells": [
  {
   "cell_type": "code",
   "id": "initial_id",
   "metadata": {
    "collapsed": true,
    "ExecuteTime": {
     "end_time": "2024-11-17T09:55:56.249928Z",
     "start_time": "2024-11-17T09:55:43.022386Z"
    }
   },
   "source": [
    "import pandas as pd\n",
    "import numpy as np\n",
    "from sklearn.pipeline import Pipeline\n",
    "from sklearn.preprocessing import OneHotEncoder, MinMaxScaler\n",
    "from sklearn.compose import ColumnTransformer, make_column_selector\n",
    "from sklearn.linear_model import ElasticNet\n",
    "from sklearn.ensemble import RandomForestRegressor\n",
    "from sklearn.impute import SimpleImputer\n",
    "from sklearn.model_selection import train_test_split\n",
    "from scipy.stats import uniform, randint\n",
    "from xgboost import XGBRegressor\n",
    "from paramFunctions import *\n",
    "import warnings\n",
    "\n",
    "warnings.filterwarnings(\"ignore\")"
   ],
   "execution_count": 1,
   "outputs": []
  },
  {
   "metadata": {
    "ExecuteTime": {
     "end_time": "2024-11-17T09:55:56.687058Z",
     "start_time": "2024-11-17T09:55:56.250926Z"
    }
   },
   "cell_type": "code",
   "source": [
    "df_Flight_price = pd.read_csv(\"../data/Flight_price.csv\")[:10000]\n",
    "\n",
    "X_flight = df_Flight_price.drop(columns=[\"Unnamed: 0\",'flight', \"price\"], axis=1)\n",
    "Y_flight = df_Flight_price['price']\n",
    "\n",
    "X_flight_train, X_flight_test, y_flight_train, y_flight_test = train_test_split(X_flight, Y_flight, test_size=0.3, random_state=42)"
   ],
   "id": "e3d3b745bb381f86",
   "execution_count": 2,
   "outputs": []
  },
  {
   "metadata": {
    "ExecuteTime": {
     "end_time": "2024-11-17T09:55:56.718972Z",
     "start_time": "2024-11-17T09:55:56.700024Z"
    }
   },
   "cell_type": "code",
   "source": [
    "si_cat=SimpleImputer(strategy=\"constant\", fill_value='NO INFORMATION')\n",
    "si_num = SimpleImputer(strategy='median')\n",
    "scaler=MinMaxScaler()\n",
    "\n",
    "numerical_pipeline = Pipeline(steps=[\n",
    "    ('imputer', si_num),\n",
    "    ('scaler', scaler)\n",
    "    ])\n",
    "    \n",
    "category_pipeline = Pipeline(steps=[\n",
    "    ('imputer', si_cat),\n",
    "    ('encoder', OneHotEncoder(handle_unknown='ignore'))\n",
    "    ])\n",
    "\n",
    "col_transformer = ColumnTransformer(transformers=[\n",
    "    ('num', numerical_pipeline, make_column_selector(dtype_include=np.number)),\n",
    "    ('cat', category_pipeline, make_column_selector(dtype_include='object'))\n",
    "    ],\n",
    "    remainder='drop',\n",
    "    n_jobs=-1)  "
   ],
   "id": "c71cd437823eeaff",
   "execution_count": 3,
   "outputs": []
  },
  {
   "metadata": {
    "ExecuteTime": {
     "end_time": "2024-11-17T09:55:56.733933Z",
     "start_time": "2024-11-17T09:55:56.720968Z"
    }
   },
   "cell_type": "code",
   "source": [
    "RF_regressor = Pipeline([('preprocessor', col_transformer),\n",
    "                         ('model', RandomForestRegressor())])\n",
    "ElasticNet_regressor = Pipeline([('preprocessor', col_transformer),\n",
    "                                 ('model', ElasticNet())])    \n",
    "XGB_regressor = Pipeline([('preprocessor', col_transformer),\n",
    "                          ('model', XGBRegressor())])  "
   ],
   "id": "9a6413cebe54bfab",
   "execution_count": 4,
   "outputs": []
  },
  {
   "metadata": {
    "ExecuteTime": {
     "end_time": "2024-11-17T09:55:56.780807Z",
     "start_time": "2024-11-17T09:55:56.735929Z"
    }
   },
   "cell_type": "code",
   "source": [
    "param_distribution_rf = {\n",
    "    'model__n_estimators': randint(1,500),\n",
    "    'model__min_samples_split': randint(2, 10),\n",
    "    'model__min_samples_leaf': randint(2, 10)\n",
    "}\n",
    "\n",
    "param_distributions_enet = {\n",
    "    'model__alpha': uniform(0, 1),\n",
    "    'model__l1_ratio': uniform(0, 1),\n",
    "}\n",
    "\n",
    "param_distributions_xgb = {\n",
    "    'model__min_child_weight': [2 ** uniform.rvs(0, 7) for _ in range(100)],\n",
    "    'model__max_depth': randint(1, 15),\n",
    "    'model__colsample_bytree': uniform(0, 1)\n",
    "}"
   ],
   "id": "6ba37ed2e58d5bf0",
   "execution_count": 5,
   "outputs": []
  },
  {
   "metadata": {
    "ExecuteTime": {
     "end_time": "2024-11-17T11:06:30.981025Z",
     "start_time": "2024-11-17T09:55:56.784798Z"
    }
   },
   "cell_type": "code",
   "source": "param_list_rf, score_list_rf = get_param_score_list(X_flight_train,y_flight_train,X_flight_test, y_flight_test, RF_regressor, param_distribution_rf, 160)",
   "id": "f0758761149c4e56",
   "execution_count": 6,
   "outputs": []
  },
  {
   "metadata": {
    "ExecuteTime": {
     "end_time": "2024-11-17T11:08:32.205804Z",
     "start_time": "2024-11-17T11:06:30.988028Z"
    }
   },
   "cell_type": "code",
   "source": "param_list_enet, score_list_enet = get_param_score_list(X_flight_train,y_flight_train,X_flight_test, y_flight_test, ElasticNet_regressor, param_distributions_enet, 160)",
   "id": "7f04ea1162a1b71f",
   "execution_count": 7,
   "outputs": []
  },
  {
   "metadata": {
    "ExecuteTime": {
     "end_time": "2024-11-17T11:14:15.257172Z",
     "start_time": "2024-11-17T11:08:32.207799Z"
    }
   },
   "cell_type": "code",
   "source": "param_list_xgb, score_list_xgb = get_param_score_list(X_flight_train,y_flight_train,X_flight_test, y_flight_test, XGB_regressor, param_distributions_xgb, 160)",
   "id": "fadfe128a3f159dd",
   "execution_count": 8,
   "outputs": []
  },
  {
   "metadata": {},
   "cell_type": "code",
   "outputs": [],
   "execution_count": null,
   "source": [
    "save_best_results('flight', 'ElasticNet', param_list_enet, score_list_enet)\n",
    "save_best_results('flight', 'XGB', param_list_xgb, score_list_xgb)\n",
    "save_best_results('flight', 'RandomForest', param_list_rf, score_list_rf)"
   ],
   "id": "aae867240a523d3b"
  },
  {
   "metadata": {
    "ExecuteTime": {
     "end_time": "2024-11-17T11:14:15.273128Z",
     "start_time": "2024-11-17T11:14:15.259167Z"
    }
   },
   "cell_type": "code",
   "source": [
    "list_1 = list(range(2, 12, 2))  \n",
    "list_2 = list(range(20, 151, 10))  \n",
    "\n",
    "iter_number = list_1 + list_2"
   ],
   "id": "7b214bbfbb60bfdd",
   "execution_count": 9,
   "outputs": []
  },
  {
   "metadata": {
    "ExecuteTime": {
     "end_time": "2024-11-17T11:14:27.550514Z",
     "start_time": "2024-11-17T11:14:26.245330Z"
    }
   },
   "cell_type": "code",
   "source": "r2_iteration_plot(iter_number, score_list_rf,'flight', 'rf')",
   "id": "42b36e33d8623d14",
   "execution_count": 10,
   "outputs": []
  },
  {
   "metadata": {
    "ExecuteTime": {
     "end_time": "2024-11-17T11:14:34.624636Z",
     "start_time": "2024-11-17T11:14:34.329616Z"
    }
   },
   "cell_type": "code",
   "source": "r2_iteration_plot(iter_number, score_list_enet,'flight', 'enet')",
   "id": "aceaba316cf3ec9a",
   "execution_count": 11,
   "outputs": []
  },
  {
   "metadata": {
    "ExecuteTime": {
     "end_time": "2024-11-17T11:14:37.570903Z",
     "start_time": "2024-11-17T11:14:37.313536Z"
    }
   },
   "cell_type": "code",
   "source": "r2_iteration_plot(iter_number, score_list_xgb,'flight', 'xgb')",
   "id": "59f4cb519627377",
   "execution_count": 12,
   "outputs": []
  },
  {
   "metadata": {
    "ExecuteTime": {
     "end_time": "2024-11-17T11:14:45.567785Z",
     "start_time": "2024-11-17T11:14:45.288089Z"
    }
   },
   "cell_type": "code",
   "source": "r2_all_models(iter_number, score_list_rf,score_list_xgb, score_list_enet, 'flight')",
   "id": "b607813378ac1543",
   "execution_count": 13,
   "outputs": []
  }
 ],
 "metadata": {
  "kernelspec": {
   "display_name": "Python 3",
   "language": "python",
   "name": "python3"
  },
  "language_info": {
   "codemirror_mode": {
    "name": "ipython",
    "version": 2
   },
   "file_extension": ".py",
   "mimetype": "text/x-python",
   "name": "python",
   "nbconvert_exporter": "python",
   "pygments_lexer": "ipython2",
   "version": "2.7.6"
  }
 },
 "nbformat": 4,
 "nbformat_minor": 5
}
