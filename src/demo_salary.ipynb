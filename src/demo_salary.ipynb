{
 "cells": [
  {
   "cell_type": "code",
   "id": "initial_id",
   "metadata": {
    "collapsed": true,
    "ExecuteTime": {
     "end_time": "2024-11-20T19:04:06.753378Z",
     "start_time": "2024-11-20T19:03:52.655101Z"
    }
   },
   "source": [
    "import pandas as pd\n",
    "import numpy as np\n",
    "from sklearn.pipeline import Pipeline\n",
    "from sklearn.preprocessing import OneHotEncoder, MinMaxScaler\n",
    "from sklearn.compose import ColumnTransformer, make_column_selector\n",
    "from sklearn.linear_model import ElasticNet\n",
    "from sklearn.ensemble import RandomForestRegressor\n",
    "from sklearn.impute import SimpleImputer\n",
    "from sklearn.model_selection import train_test_split\n",
    "from scipy.stats import uniform, randint\n",
    "from xgboost import XGBRegressor\n",
    "from paramFunctions import *\n",
    "import warnings\n",
    "\n",
    "warnings.filterwarnings(\"ignore\")"
   ],
   "outputs": [],
   "execution_count": 1
  },
  {
   "metadata": {
    "ExecuteTime": {
     "end_time": "2024-11-20T19:04:06.926933Z",
     "start_time": "2024-11-20T19:04:06.766345Z"
    }
   },
   "cell_type": "code",
   "source": [
    "df_Salary = pd.read_csv(\"../data/salary_prediction_data.csv\")\n",
    "\n",
    "X_salary = df_Salary.drop(columns=[\"Salary\"], axis=1)\n",
    "Y_salary = df_Salary['Salary']\n",
    "\n",
    "X_salary_train, X_salary_test, y_salary_train, y_salary_test = train_test_split(X_salary, Y_salary, test_size=0.3, random_state=42)"
   ],
   "id": "21e360ce5b0220a9",
   "outputs": [],
   "execution_count": 2
  },
  {
   "metadata": {
    "ExecuteTime": {
     "end_time": "2024-11-20T19:04:06.942891Z",
     "start_time": "2024-11-20T19:04:06.928928Z"
    }
   },
   "cell_type": "code",
   "source": [
    "si_cat=SimpleImputer(strategy=\"constant\", fill_value='NO INFORMATION')\n",
    "si_num = SimpleImputer(strategy='median')\n",
    "scaler=MinMaxScaler()\n",
    "\n",
    "numerical_pipeline = Pipeline(steps=[\n",
    "    ('imputer', si_num),\n",
    "    ('scaler', scaler)\n",
    "    ])\n",
    "    \n",
    "category_pipeline = Pipeline(steps=[\n",
    "    ('imputer', si_cat),\n",
    "    ('encoder', OneHotEncoder(handle_unknown='ignore'))\n",
    "    ])\n",
    "\n",
    "col_transformer = ColumnTransformer(transformers=[\n",
    "    ('num', numerical_pipeline, make_column_selector(dtype_include=np.number)),\n",
    "    ('cat', category_pipeline, make_column_selector(dtype_include='object'))\n",
    "    ],\n",
    "    remainder='drop',\n",
    "    n_jobs=-1)  "
   ],
   "id": "9ebff26f9b0ed3d5",
   "outputs": [],
   "execution_count": 3
  },
  {
   "metadata": {
    "ExecuteTime": {
     "end_time": "2024-11-20T19:04:07.013703Z",
     "start_time": "2024-11-20T19:04:06.950869Z"
    }
   },
   "cell_type": "code",
   "source": [
    "RF_regressor = Pipeline([('preprocessor', col_transformer),\n",
    "                         ('model', RandomForestRegressor())])\n",
    "ElasticNet_regressor = Pipeline([('preprocessor', col_transformer),\n",
    "                                 ('model', ElasticNet())])    \n",
    "XGB_regressor = Pipeline([('preprocessor', col_transformer),\n",
    "                          ('model', XGBRegressor())])  "
   ],
   "id": "5ff0b77f8e7376eb",
   "outputs": [],
   "execution_count": 4
  },
  {
   "metadata": {
    "ExecuteTime": {
     "end_time": "2024-11-20T19:04:07.112060Z",
     "start_time": "2024-11-20T19:04:07.017691Z"
    }
   },
   "cell_type": "code",
   "source": [
    "param_distribution_rf = {\n",
    "    'model__n_estimators': randint(1,500),\n",
    "    'model__min_samples_split': randint(2, 10),\n",
    "    'model__min_samples_leaf': randint(2, 10)\n",
    "}\n",
    "\n",
    "param_distributions_enet = {\n",
    "    'model__alpha': uniform(0, 1),\n",
    "    'model__l1_ratio': uniform(0, 1),\n",
    "}\n",
    "\n",
    "param_distributions_xgb = {\n",
    "    'model__min_child_weight': [2 ** uniform.rvs(0, 7) for _ in range(100)],\n",
    "    'model__max_depth': randint(1, 15),\n",
    "    'model__colsample_bytree': uniform(0, 1)\n",
    "}"
   ],
   "id": "e5d0e97591bc5adb",
   "outputs": [],
   "execution_count": 5
  },
  {
   "metadata": {
    "ExecuteTime": {
     "end_time": "2024-11-20T19:07:16.150548Z",
     "start_time": "2024-11-20T19:04:07.114055Z"
    }
   },
   "cell_type": "code",
   "source": "param_list_xgb, score_list_xgb = get_param_score_list(X_salary_train,y_salary_train,X_salary_test, y_salary_test, XGB_regressor, param_distributions_xgb, 160)",
   "id": "15f6ca9a97de9cbc",
   "outputs": [
    {
     "name": "stdout",
     "output_type": "stream",
     "text": [
      "Fitting 5 folds for each of 2 candidates, totalling 10 fits\n",
      "Fitting 5 folds for each of 4 candidates, totalling 20 fits\n",
      "Fitting 5 folds for each of 6 candidates, totalling 30 fits\n",
      "Fitting 5 folds for each of 8 candidates, totalling 40 fits\n",
      "Fitting 5 folds for each of 10 candidates, totalling 50 fits\n",
      "Fitting 5 folds for each of 20 candidates, totalling 100 fits\n",
      "Fitting 5 folds for each of 30 candidates, totalling 150 fits\n",
      "Fitting 5 folds for each of 40 candidates, totalling 200 fits\n",
      "Fitting 5 folds for each of 50 candidates, totalling 250 fits\n",
      "Fitting 5 folds for each of 60 candidates, totalling 300 fits\n",
      "Fitting 5 folds for each of 70 candidates, totalling 350 fits\n",
      "Fitting 5 folds for each of 80 candidates, totalling 400 fits\n",
      "Fitting 5 folds for each of 90 candidates, totalling 450 fits\n",
      "Fitting 5 folds for each of 100 candidates, totalling 500 fits\n",
      "Fitting 5 folds for each of 110 candidates, totalling 550 fits\n",
      "Fitting 5 folds for each of 120 candidates, totalling 600 fits\n",
      "Fitting 5 folds for each of 130 candidates, totalling 650 fits\n",
      "Fitting 5 folds for each of 140 candidates, totalling 700 fits\n",
      "Fitting 5 folds for each of 150 candidates, totalling 750 fits\n",
      "[{'model__colsample_bytree': 0.7319939418114051, 'model__max_depth': 13, 'model__min_child_weight': 71.77882494693108}, {'model__colsample_bytree': 0.7319939418114051, 'model__max_depth': 13, 'model__min_child_weight': 71.77882494693108}, {'model__colsample_bytree': 0.7319939418114051, 'model__max_depth': 13, 'model__min_child_weight': 71.77882494693108}, {'model__colsample_bytree': 0.21233911067827616, 'model__max_depth': 12, 'model__min_child_weight': 71.77882494693108}, {'model__colsample_bytree': 0.21233911067827616, 'model__max_depth': 12, 'model__min_child_weight': 71.77882494693108}, {'model__colsample_bytree': 0.17336465350777208, 'model__max_depth': 1, 'model__min_child_weight': 67.31855172647234}, {'model__colsample_bytree': 0.17336465350777208, 'model__max_depth': 1, 'model__min_child_weight': 67.31855172647234}, {'model__colsample_bytree': 0.8872127425763265, 'model__max_depth': 1, 'model__min_child_weight': 67.61912305160585}, {'model__colsample_bytree': 0.8872127425763265, 'model__max_depth': 1, 'model__min_child_weight': 67.61912305160585}, {'model__colsample_bytree': 0.8872127425763265, 'model__max_depth': 1, 'model__min_child_weight': 67.61912305160585}, {'model__colsample_bytree': 0.8872127425763265, 'model__max_depth': 1, 'model__min_child_weight': 67.61912305160585}, {'model__colsample_bytree': 0.8872127425763265, 'model__max_depth': 1, 'model__min_child_weight': 67.61912305160585}, {'model__colsample_bytree': 0.8872127425763265, 'model__max_depth': 1, 'model__min_child_weight': 67.61912305160585}, {'model__colsample_bytree': 0.8872127425763265, 'model__max_depth': 1, 'model__min_child_weight': 67.61912305160585}, {'model__colsample_bytree': 0.8872127425763265, 'model__max_depth': 1, 'model__min_child_weight': 67.61912305160585}, {'model__colsample_bytree': 0.8872127425763265, 'model__max_depth': 1, 'model__min_child_weight': 67.61912305160585}, {'model__colsample_bytree': 0.8872127425763265, 'model__max_depth': 1, 'model__min_child_weight': 67.61912305160585}, {'model__colsample_bytree': 0.8872127425763265, 'model__max_depth': 1, 'model__min_child_weight': 67.61912305160585}, {'model__colsample_bytree': 0.8872127425763265, 'model__max_depth': 1, 'model__min_child_weight': 67.61912305160585}]\n",
      "[0.8665149671577175, 0.8665149671577175, 0.8665149671577175, 0.870012787752468, 0.870012787752468, 0.8739608501319365, 0.8739608501319365, 0.875921078981552, 0.875921078981552, 0.875921078981552, 0.875921078981552, 0.875921078981552, 0.875921078981552, 0.875921078981552, 0.875921078981552, 0.875921078981552, 0.875921078981552, 0.875921078981552, 0.875921078981552]\n"
     ]
    }
   ],
   "execution_count": 6
  },
  {
   "metadata": {
    "ExecuteTime": {
     "end_time": "2024-11-20T19:09:03.369762Z",
     "start_time": "2024-11-20T19:07:16.151546Z"
    }
   },
   "cell_type": "code",
   "source": "param_list_enet, score_list_enet = get_param_score_list(X_salary_train,y_salary_train,X_salary_test, y_salary_test, ElasticNet_regressor, param_distributions_enet, 160)",
   "id": "8b0485f8d7f40136",
   "outputs": [
    {
     "name": "stdout",
     "output_type": "stream",
     "text": [
      "Fitting 5 folds for each of 2 candidates, totalling 10 fits\n",
      "Fitting 5 folds for each of 4 candidates, totalling 20 fits\n",
      "Fitting 5 folds for each of 6 candidates, totalling 30 fits\n",
      "Fitting 5 folds for each of 8 candidates, totalling 40 fits\n",
      "Fitting 5 folds for each of 10 candidates, totalling 50 fits\n",
      "Fitting 5 folds for each of 20 candidates, totalling 100 fits\n",
      "Fitting 5 folds for each of 30 candidates, totalling 150 fits\n",
      "Fitting 5 folds for each of 40 candidates, totalling 200 fits\n",
      "Fitting 5 folds for each of 50 candidates, totalling 250 fits\n",
      "Fitting 5 folds for each of 60 candidates, totalling 300 fits\n",
      "Fitting 5 folds for each of 70 candidates, totalling 350 fits\n",
      "Fitting 5 folds for each of 80 candidates, totalling 400 fits\n",
      "Fitting 5 folds for each of 90 candidates, totalling 450 fits\n",
      "Fitting 5 folds for each of 100 candidates, totalling 500 fits\n",
      "Fitting 5 folds for each of 110 candidates, totalling 550 fits\n",
      "Fitting 5 folds for each of 120 candidates, totalling 600 fits\n",
      "Fitting 5 folds for each of 130 candidates, totalling 650 fits\n",
      "Fitting 5 folds for each of 140 candidates, totalling 700 fits\n",
      "Fitting 5 folds for each of 150 candidates, totalling 750 fits\n",
      "[{'model__alpha': 0.3745401188473625, 'model__l1_ratio': 0.9507143064099162}, {'model__alpha': 0.05808361216819946, 'model__l1_ratio': 0.8661761457749352}, {'model__alpha': 0.020584494295802447, 'model__l1_ratio': 0.9699098521619943}, {'model__alpha': 0.020584494295802447, 'model__l1_ratio': 0.9699098521619943}, {'model__alpha': 0.020584494295802447, 'model__l1_ratio': 0.9699098521619943}, {'model__alpha': 0.020584494295802447, 'model__l1_ratio': 0.9699098521619943}, {'model__alpha': 0.020584494295802447, 'model__l1_ratio': 0.9699098521619943}, {'model__alpha': 0.005522117123602399, 'model__l1_ratio': 0.8154614284548342}, {'model__alpha': 0.005522117123602399, 'model__l1_ratio': 0.8154614284548342}, {'model__alpha': 0.005522117123602399, 'model__l1_ratio': 0.8154614284548342}, {'model__alpha': 0.005522117123602399, 'model__l1_ratio': 0.8154614284548342}, {'model__alpha': 0.005522117123602399, 'model__l1_ratio': 0.8154614284548342}, {'model__alpha': 0.005522117123602399, 'model__l1_ratio': 0.8154614284548342}, {'model__alpha': 0.005522117123602399, 'model__l1_ratio': 0.8154614284548342}, {'model__alpha': 0.005522117123602399, 'model__l1_ratio': 0.8154614284548342}, {'model__alpha': 0.005522117123602399, 'model__l1_ratio': 0.8154614284548342}, {'model__alpha': 0.015456616528867428, 'model__l1_ratio': 0.9283185625877254}, {'model__alpha': 0.015456616528867428, 'model__l1_ratio': 0.9283185625877254}, {'model__alpha': 0.015456616528867428, 'model__l1_ratio': 0.9283185625877254}]\n",
      "[0.8729855367140023, 0.878768305504252, 0.8803428275933957, 0.8803428275933957, 0.8803428275933957, 0.8803428275933957, 0.8803428275933957, 0.8803170822248244, 0.8803170822248244, 0.8803170822248244, 0.8803170822248244, 0.8803170822248244, 0.8803170822248244, 0.8803170822248244, 0.8803170822248244, 0.8803170822248244, 0.8803104348300133, 0.8803104348300133, 0.8803104348300133]\n"
     ]
    }
   ],
   "execution_count": 7
  },
  {
   "metadata": {
    "ExecuteTime": {
     "end_time": "2024-11-20T19:22:16.664284Z",
     "start_time": "2024-11-20T19:09:03.373749Z"
    }
   },
   "cell_type": "code",
   "source": "param_list_rf, score_list_rf = get_param_score_list(X_salary_train,y_salary_train,X_salary_test, y_salary_test, RF_regressor, param_distribution_rf, 160)",
   "id": "a57704075e9563d2",
   "outputs": [
    {
     "name": "stdout",
     "output_type": "stream",
     "text": [
      "Fitting 5 folds for each of 2 candidates, totalling 10 fits\n",
      "Fitting 5 folds for each of 4 candidates, totalling 20 fits\n",
      "Fitting 5 folds for each of 6 candidates, totalling 30 fits\n",
      "Fitting 5 folds for each of 8 candidates, totalling 40 fits\n",
      "Fitting 5 folds for each of 10 candidates, totalling 50 fits\n",
      "Fitting 5 folds for each of 20 candidates, totalling 100 fits\n",
      "Fitting 5 folds for each of 30 candidates, totalling 150 fits\n",
      "Fitting 5 folds for each of 40 candidates, totalling 200 fits\n",
      "Fitting 5 folds for each of 50 candidates, totalling 250 fits\n",
      "Fitting 5 folds for each of 60 candidates, totalling 300 fits\n",
      "Fitting 5 folds for each of 70 candidates, totalling 350 fits\n",
      "Fitting 5 folds for each of 80 candidates, totalling 400 fits\n",
      "Fitting 5 folds for each of 90 candidates, totalling 450 fits\n",
      "Fitting 5 folds for each of 100 candidates, totalling 500 fits\n",
      "Fitting 5 folds for each of 110 candidates, totalling 550 fits\n",
      "Fitting 5 folds for each of 120 candidates, totalling 600 fits\n",
      "Fitting 5 folds for each of 130 candidates, totalling 650 fits\n",
      "Fitting 5 folds for each of 140 candidates, totalling 700 fits\n",
      "Fitting 5 folds for each of 150 candidates, totalling 750 fits\n",
      "[{'model__min_samples_leaf': 8, 'model__min_samples_split': 5, 'model__n_estimators': 349}, {'model__min_samples_leaf': 6, 'model__min_samples_split': 6, 'model__n_estimators': 103}, {'model__min_samples_leaf': 6, 'model__min_samples_split': 5, 'model__n_estimators': 360}, {'model__min_samples_leaf': 4, 'model__min_samples_split': 4, 'model__n_estimators': 88}, {'model__min_samples_leaf': 6, 'model__min_samples_split': 3, 'model__n_estimators': 344}, {'model__min_samples_leaf': 6, 'model__min_samples_split': 4, 'model__n_estimators': 135}, {'model__min_samples_leaf': 6, 'model__min_samples_split': 2, 'model__n_estimators': 167}, {'model__min_samples_leaf': 5, 'model__min_samples_split': 7, 'model__n_estimators': 294}, {'model__min_samples_leaf': 5, 'model__min_samples_split': 9, 'model__n_estimators': 472}, {'model__min_samples_leaf': 5, 'model__min_samples_split': 6, 'model__n_estimators': 41}, {'model__min_samples_leaf': 4, 'model__min_samples_split': 4, 'model__n_estimators': 170}, {'model__min_samples_leaf': 5, 'model__min_samples_split': 9, 'model__n_estimators': 472}, {'model__min_samples_leaf': 5, 'model__min_samples_split': 8, 'model__n_estimators': 444}, {'model__min_samples_leaf': 4, 'model__min_samples_split': 4, 'model__n_estimators': 170}, {'model__min_samples_leaf': 2, 'model__min_samples_split': 9, 'model__n_estimators': 129}, {'model__min_samples_leaf': 6, 'model__min_samples_split': 4, 'model__n_estimators': 135}, {'model__min_samples_leaf': 5, 'model__min_samples_split': 9, 'model__n_estimators': 472}, {'model__min_samples_leaf': 5, 'model__min_samples_split': 9, 'model__n_estimators': 131}, {'model__min_samples_leaf': 5, 'model__min_samples_split': 4, 'model__n_estimators': 371}]\n",
      "[0.8515338463290595, 0.8531700541291241, 0.8542851751212439, 0.8522543812302878, 0.8532354944207162, 0.8536108263215894, 0.8550044029922772, 0.852881522409292, 0.8525252249394379, 0.8519518541174869, 0.8536678895771095, 0.8545724282562914, 0.8526202448649682, 0.8522003506322412, 0.8536295047230907, 0.8518603142383716, 0.8533076807999171, 0.8537335189538133, 0.8528288334618253]\n"
     ]
    }
   ],
   "execution_count": 8
  },
  {
   "metadata": {
    "ExecuteTime": {
     "end_time": "2024-11-20T19:22:16.695196Z",
     "start_time": "2024-11-20T19:22:16.666250Z"
    }
   },
   "cell_type": "code",
   "source": [
    "save_best_results('salary', 'ElasticNet', param_list_enet, score_list_enet)\n",
    "save_best_results('salary', 'XGB', param_list_xgb, score_list_xgb)\n",
    "save_best_results('salary', 'RandomForest', param_list_rf, score_list_rf)"
   ],
   "id": "a26987ee3b465cca",
   "outputs": [
    {
     "name": "stdout",
     "output_type": "stream",
     "text": [
      "Best score for ElasticNet on salary: 0.8803428275933957 with params: {'model__alpha': 0.020584494295802447, 'model__l1_ratio': 0.9699098521619943}\n",
      "Best score for XGB on salary: 0.875921078981552 with params: {'model__colsample_bytree': 0.8872127425763265, 'model__max_depth': 1, 'model__min_child_weight': 67.61912305160585}\n",
      "Best score for RandomForest on salary: 0.8550044029922772 with params: {'model__min_samples_leaf': 6, 'model__min_samples_split': 2, 'model__n_estimators': 167}\n"
     ]
    }
   ],
   "execution_count": 9
  },
  {
   "metadata": {
    "ExecuteTime": {
     "end_time": "2024-11-16T22:27:05.994153Z",
     "start_time": "2024-11-16T22:27:05.975204Z"
    }
   },
   "cell_type": "code",
   "source": [
    "list_1 = list(range(2, 12, 2))  \n",
    "list_2 = list(range(20, 151, 10))  \n",
    "\n",
    "iter_number = list_1 + list_2"
   ],
   "id": "717e9188bda0f0b3",
   "execution_count": 10,
   "outputs": []
  },
  {
   "metadata": {
    "ExecuteTime": {
     "end_time": "2024-11-16T22:23:16.959433Z",
     "start_time": "2024-11-16T22:23:16.659527Z"
    }
   },
   "cell_type": "code",
   "source": "r2_iteration_plot(iter_number, score_list_rf,'salary', 'rf')",
   "id": "477745aeacba45ed",
   "execution_count": 9,
   "outputs": []
  },
  {
   "metadata": {
    "ExecuteTime": {
     "end_time": "2024-11-16T20:52:01.695800Z",
     "start_time": "2024-11-16T20:52:01.367249Z"
    }
   },
   "cell_type": "code",
   "source": "r2_iteration_plot(iter_number, score_list_enet,'salary', 'enet')",
   "id": "37bc6c76a6489a46",
   "execution_count": 10,
   "outputs": []
  },
  {
   "metadata": {
    "ExecuteTime": {
     "end_time": "2024-11-16T20:56:39.341563Z",
     "start_time": "2024-11-16T20:56:39.085733Z"
    }
   },
   "cell_type": "code",
   "source": "r2_iteration_plot(iter_number, score_list_xgb,'salary', 'xgb')",
   "id": "d70ceb14110d0409",
   "execution_count": 13,
   "outputs": []
  },
  {
   "metadata": {
    "ExecuteTime": {
     "end_time": "2024-11-16T22:27:09.273597Z",
     "start_time": "2024-11-16T22:27:08.842785Z"
    }
   },
   "cell_type": "code",
   "source": "r2_all_models(iter_number, score_list_rf,score_list_xgb, score_list_enet, 'salary')",
   "id": "230a6eb46da477e1",
   "execution_count": 11,
   "outputs": []
  }
 ],
 "metadata": {
  "kernelspec": {
   "display_name": "Python 3",
   "language": "python",
   "name": "python3"
  },
  "language_info": {
   "codemirror_mode": {
    "name": "ipython",
    "version": 2
   },
   "file_extension": ".py",
   "mimetype": "text/x-python",
   "name": "python",
   "nbconvert_exporter": "python",
   "pygments_lexer": "ipython2",
   "version": "2.7.6"
  }
 },
 "nbformat": 4,
 "nbformat_minor": 5
}
